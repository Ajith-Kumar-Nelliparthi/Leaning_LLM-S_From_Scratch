{
 "cells": [
  {
   "cell_type": "code",
   "execution_count": 1,
   "id": "c70f333b",
   "metadata": {},
   "outputs": [
    {
     "name": "stderr",
     "output_type": "stream",
     "text": [
      "c:\\Users\\nelli\\anaconda3\\envs\\hops\\lib\\site-packages\\tqdm\\auto.py:21: TqdmWarning: IProgress not found. Please update jupyter and ipywidgets. See https://ipywidgets.readthedocs.io/en/stable/user_install.html\n",
      "  from .autonotebook import tqdm as notebook_tqdm\n",
      "c:\\Users\\nelli\\anaconda3\\envs\\hops\\lib\\site-packages\\torch\\utils\\_pytree.py:185: FutureWarning: optree is installed but the version is too old to support PyTorch Dynamo in C++ pytree. C++ pytree support is disabled. Please consider upgrading optree using `python3 -m pip install --upgrade 'optree>=0.13.0'`.\n",
      "  warnings.warn(\n"
     ]
    }
   ],
   "source": [
    "from transformers import AutoTokenizer, AutoModelForCausalLM\n",
    "import torch\n",
    "import time "
   ]
  },
  {
   "cell_type": "code",
   "execution_count": 2,
   "id": "83d7ed7c",
   "metadata": {},
   "outputs": [
    {
     "data": {
      "text/plain": [
       "GPT2LMHeadModel(\n",
       "  (transformer): GPT2Model(\n",
       "    (wte): Embedding(50257, 768)\n",
       "    (wpe): Embedding(1024, 768)\n",
       "    (drop): Dropout(p=0.1, inplace=False)\n",
       "    (h): ModuleList(\n",
       "      (0-11): 12 x GPT2Block(\n",
       "        (ln_1): LayerNorm((768,), eps=1e-05, elementwise_affine=True)\n",
       "        (attn): GPT2Attention(\n",
       "          (c_attn): Conv1D(nf=2304, nx=768)\n",
       "          (c_proj): Conv1D(nf=768, nx=768)\n",
       "          (attn_dropout): Dropout(p=0.1, inplace=False)\n",
       "          (resid_dropout): Dropout(p=0.1, inplace=False)\n",
       "        )\n",
       "        (ln_2): LayerNorm((768,), eps=1e-05, elementwise_affine=True)\n",
       "        (mlp): GPT2MLP(\n",
       "          (c_fc): Conv1D(nf=3072, nx=768)\n",
       "          (c_proj): Conv1D(nf=768, nx=3072)\n",
       "          (act): NewGELUActivation()\n",
       "          (dropout): Dropout(p=0.1, inplace=False)\n",
       "        )\n",
       "      )\n",
       "    )\n",
       "    (ln_f): LayerNorm((768,), eps=1e-05, elementwise_affine=True)\n",
       "  )\n",
       "  (lm_head): Linear(in_features=768, out_features=50257, bias=False)\n",
       ")"
      ]
     },
     "execution_count": 2,
     "metadata": {},
     "output_type": "execute_result"
    }
   ],
   "source": [
    "# Load the tokenizer and model\n",
    "model = AutoModelForCausalLM.from_pretrained(\"gpt2\")\n",
    "tokenizer = AutoTokenizer.from_pretrained(\"gpt2\")\n",
    "model.eval()"
   ]
  },
  {
   "cell_type": "code",
   "execution_count": 3,
   "id": "143ad858",
   "metadata": {},
   "outputs": [],
   "source": [
    "prompt = \"The future of AI is\"\n",
    "input_ids = tokenizer.encode(prompt, return_tensors=\"pt\")"
   ]
  },
  {
   "cell_type": "code",
   "execution_count": 4,
   "id": "d0056a2b",
   "metadata": {},
   "outputs": [
    {
     "name": "stdout",
     "output_type": "stream",
     "text": [
      "With KV Cache: The future of AI is uncertain. The future of AI is uncertain.\n",
      "\n",
      "\n",
      "Time with KV Cache: 0.49265623092651367\n"
     ]
    }
   ],
   "source": [
    "with torch.no_grad():\n",
    "    start = time.time()\n",
    "    output = model(input_ids, use_cache=True)\n",
    "    past_key_values = output.past_key_values\n",
    "    next_token = torch.argmax(output.logits[:, -1, :], dim=-1).unsqueeze(-1)\n",
    "\n",
    "# Continue generation using KV cache\n",
    "generated = [next_token]\n",
    "for _ in range(10):\n",
    "    with torch.no_grad():\n",
    "        output = model(next_token, past_key_values=past_key_values, use_cache=True)\n",
    "        past_key_values = output.past_key_values\n",
    "        next_token = torch.argmax(output.logits[:, -1, :], dim=-1).unsqueeze(-1)\n",
    "        generated.append(next_token)\n",
    "        \n",
    "cached_time = time.time() - start\n",
    "generated_ids = torch.cat([input_ids] + generated, dim=1)\n",
    "print(\"With KV Cache:\", tokenizer.decode(generated_ids[0]))\n",
    "print(\"Time with KV Cache:\", cached_time)"
   ]
  },
  {
   "cell_type": "code",
   "execution_count": 5,
   "id": "ffa5e373",
   "metadata": {},
   "outputs": [
    {
     "name": "stdout",
     "output_type": "stream",
     "text": [
      "Without KV Cache: The future of AI is uncertain. The future of AI is uncertain.\n",
      "\n",
      "Time without KV Cache: 0.9878010749816895\n"
     ]
    }
   ],
   "source": [
    "# Re-encode the input and regenerate at every step from scratch\n",
    "input_ids = tokenizer.encode(prompt, return_tensors=\"pt\")\n",
    "generated_ids = input_ids.clone()\n",
    "start = time.time()\n",
    "\n",
    "for _ in range(10):\n",
    "    with torch.no_grad():\n",
    "        output = model(generated_ids, use_cache=False)  # No caching\n",
    "        next_token = torch.argmax(output.logits[:, -1, :], dim=-1).unsqueeze(-1)\n",
    "        generated_ids = torch.cat([generated_ids, next_token], dim=1)\n",
    "\n",
    "no_cache_time = time.time() - start\n",
    "print(\"Without KV Cache:\", tokenizer.decode(generated_ids[0]))\n",
    "print(\"Time without KV Cache:\", no_cache_time)\n"
   ]
  }
 ],
 "metadata": {
  "kernelspec": {
   "display_name": "hops",
   "language": "python",
   "name": "python3"
  },
  "language_info": {
   "codemirror_mode": {
    "name": "ipython",
    "version": 3
   },
   "file_extension": ".py",
   "mimetype": "text/x-python",
   "name": "python",
   "nbconvert_exporter": "python",
   "pygments_lexer": "ipython3",
   "version": "3.10.13"
  }
 },
 "nbformat": 4,
 "nbformat_minor": 5
}
